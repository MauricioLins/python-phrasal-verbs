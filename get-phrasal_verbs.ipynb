{
 "cells": [
  {
   "cell_type": "code",
   "execution_count": null,
   "metadata": {
    "collapsed": true
   },
   "outputs": [],
   "source": [
    "import requests\n",
    "from bs4 import BeautifulSoup\n",
    "import datetime as dt\n",
    "import string\n",
    "import pandas as pd\n",
    "import time"
   ]
  },
  {
   "cell_type": "code",
   "execution_count": null,
   "metadata": {
    "collapsed": true
   },
   "outputs": [],
   "source": [
    "cols = ['verb','phrasal','meaning','sentences']"
   ]
  },
  {
   "cell_type": "code",
   "execution_count": null,
   "metadata": {},
   "outputs": [],
   "source": [
    "df = pd.DataFrame(columns=cols)"
   ]
  },
  {
   "cell_type": "code",
   "execution_count": null,
   "metadata": {},
   "outputs": [],
   "source": [
    "alphabet = ['A','B','C','D','E-F','G','H','IJK','L','M-N','OPQ','R-S','T','U-Z']\n",
    "for letter in alphabet:\n",
    "    \n",
    "    url = \"https://www.learn-english-today.com/phrasal-verbs/phrasal-verbs_\" + letter + \".html\"\n",
    "\n",
    "    print(\"READING...\" + url)\n",
    "\n",
    "    page = requests.get(url)\n",
    "    time.sleep(3)\n",
    "\n",
    "    bs = BeautifulSoup(page.content, \"html.parser\")\n",
    "\n",
    "    try:\n",
    "        content = bs.find(\"div\",{\"id\":\"ph-verb-list\"}).find_next(\"ul\")\n",
    "        li = content.find_next(\"li\")\n",
    "    except AttributeError as at:\n",
    "        content = bs.find(\"div\",{\"id\":\"ph-berb-list\"}).find_next(\"ul\")\n",
    "        li = content.find_next(\"li\")\n",
    "    \n",
    "    listaget = []\n",
    "    listaget.append(li)\n",
    "    \n",
    "    for pv in li.find_next_siblings():\n",
    "        listaget.append(pv)\n",
    "\n",
    "    for i in range(0,len(listaget)):\n",
    "\n",
    "        pverbsList = []\n",
    "\n",
    "        try:\n",
    "            pverb   = listaget[i].find(\"span\").getText().strip()\n",
    "            verb    = pverb.split()[0]\n",
    "            desc    = listaget[i].find(\"ul\").find(\"li\").getText().replace(\"\\n\\t\\t\\t\\t\\t\\t\\t\",\"\").replace(\"\\n\\t\\t\\t\\t\\t\\t\",\"\").split(\"\\n\")\n",
    "            meaning = desc[0]\n",
    "\n",
    "            pverbsList.append(verb)\n",
    "            pverbsList.append(pverb)\n",
    "            pverbsList.append(meaning)\n",
    "\n",
    "            filteredDesc = list(filter(None,desc[1:]))\n",
    "\n",
    "            frases = \"\"\n",
    "            for x in range(0,len(filteredDesc)):\n",
    "                frases += filteredDesc[x].replace('\"',\"\").strip()\n",
    "\n",
    "                if(len(filteredDesc) > 1):\n",
    "                    if(len(filteredDesc)-1 != x):\n",
    "\n",
    "                        frases += \"|\"\n",
    "\n",
    "            pverbsList.append(frases)\n",
    "            df.loc[len(df.index)] = pverbsList\n",
    "            #print(pverbsList)\n",
    "        except Exception as e:\n",
    "            pass\n"
   ]
  },
  {
   "cell_type": "code",
   "execution_count": null,
   "metadata": {},
   "outputs": [],
   "source": []
  },
  {
   "cell_type": "code",
   "execution_count": null,
   "metadata": {
    "collapsed": true
   },
   "outputs": [],
   "source": [
    "df.to_json('phrasalv_.json',orient='records')"
   ]
  },
  {
   "cell_type": "code",
   "execution_count": null,
   "metadata": {},
   "outputs": [],
   "source": [
    "df.to_csv('phrasalv_.csv',sep='\\t',index=False)"
   ]
  }
 ],
 "metadata": {
  "kernelspec": {
   "display_name": "Python 3",
   "language": "python",
   "name": "python3"
  },
  "language_info": {
   "codemirror_mode": {
    "name": "ipython",
    "version": 3
   },
   "file_extension": ".py",
   "mimetype": "text/x-python",
   "name": "python",
   "nbconvert_exporter": "python",
   "pygments_lexer": "ipython3",
   "version": "3.6.6"
  }
 },
 "nbformat": 4,
 "nbformat_minor": 2
}
